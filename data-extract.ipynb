{
 "cells": [
  {
   "cell_type": "code",
   "execution_count": 5,
   "id": "9a836cc4-9757-4962-abda-5b19b47e8b23",
   "metadata": {},
   "outputs": [
    {
     "name": "stdout",
     "output_type": "stream",
     "text": [
      "20610\n"
     ]
    },
    {
     "name": "stderr",
     "output_type": "stream",
     "text": [
      "100%|█████████████████████████████████████████| 185/185 [00:11<00:00, 16.19it/s]\n",
      "100%|███████████████████████████████████████████| 20/20 [00:01<00:00, 12.93it/s]\n"
     ]
    }
   ],
   "source": [
    "import os\n",
    "import lzma\n",
    "from tqdm import tqdm\n",
    "import concurrent.futures\n",
    "import random\n",
    "\n",
    "def process_file(args):\n",
    "    directory, filename, output_file, vocab = args\n",
    "    file_path = os.path.join(directory, filename)\n",
    "    with lzma.open(file_path, \"rt\", encoding=\"utf-8\") as infile:\n",
    "        text = infile.read()\n",
    "    with open(output_file, \"a\", encoding=\"utf-8\") as outfile:\n",
    "        outfile.write(text)\n",
    "    characters = set(text)\n",
    "    return characters\n",
    "\n",
    "def xz_files_in_dir(directory):\n",
    "    return [filename for filename in os.listdir(directory) if filename.endswith(\".xz\") and os.path.isfile(os.path.join(directory, filename))]\n",
    "\n",
    "def process_files_in_parallel(files, folder_path, output_file):\n",
    "    vocab = set()\n",
    "    with concurrent.futures.ProcessPoolExecutor(max_workers=4) as executor:\n",
    "        args = [(folder_path, filename, output_file, vocab) for filename in files]\n",
    "        for characters in tqdm(executor.map(process_file, args), total=len(files)):\n",
    "            vocab.update(characters)\n",
    "    return vocab\n",
    "\n",
    "folder_path = \"/home/nestor/Downloads/openwebtext\"\n",
    "output_file_train = \"output_train.txt\"\n",
    "output_file_val = \"output_val.txt\"\n",
    "vocab_file = \"vocab.txt\"\n",
    "\n",
    "files = xz_files_in_dir(folder_path)\n",
    "total_files = len(files)\n",
    "#print(total_files)\n",
    "\n",
    "split_index = int(total_files * 0.9)  # 90% for training\n",
    "files_train = files[:split_index]\n",
    "files_val = files[split_index:]\n",
    "\n",
    "# Sampling a hundredth of the files for each split\n",
    "sample_rate = 0.01 # 1% of 40GB of text is more realistic for testing purposes\n",
    "files_train_sampled = random.sample(files_train, max(1, int(len(files_train) * sample_rate)))\n",
    "files_val_sampled = random.sample(files_val, max(1, int(len(files_val) * sample_rate)))\n",
    "\n",
    "# Ensure output files are empty before appending\n",
    "open(output_file_train, 'w').close()\n",
    "open(output_file_val, 'w').close()\n",
    "\n",
    "# Process the sampled training files\n",
    "vocab_train = process_files_in_parallel(files_train_sampled, folder_path, output_file_train)\n",
    "\n",
    "# Process the sampled validation files\n",
    "vocab_val = process_files_in_parallel(files_val_sampled, folder_path, output_file_val)\n",
    "\n",
    "# Combine vocabularies (if needed) and write to vocab.txt\n",
    "vocab = vocab_train.union(vocab_val)\n",
    "with open(vocab_file, \"w\", encoding=\"utf-8\") as vfile:\n",
    "    for char in sorted(vocab):\n",
    "        vfile.write(char + '\\n')\n"
   ]
  },
  {
   "cell_type": "code",
   "execution_count": null,
   "id": "a8940b9c-60b9-4f9f-a08b-45dd70ed2f5f",
   "metadata": {},
   "outputs": [],
   "source": []
  },
  {
   "cell_type": "code",
   "execution_count": null,
   "id": "4e8750f3-e219-46ab-9bf6-78c0d737b811",
   "metadata": {},
   "outputs": [],
   "source": []
  }
 ],
 "metadata": {
  "kernelspec": {
   "display_name": "Python 3 (ipykernel)",
   "language": "python",
   "name": "python3"
  },
  "language_info": {
   "codemirror_mode": {
    "name": "ipython",
    "version": 3
   },
   "file_extension": ".py",
   "mimetype": "text/x-python",
   "name": "python",
   "nbconvert_exporter": "python",
   "pygments_lexer": "ipython3",
   "version": "3.10.13"
  }
 },
 "nbformat": 4,
 "nbformat_minor": 5
}

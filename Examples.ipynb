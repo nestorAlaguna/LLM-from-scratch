{
 "cells": [
  {
   "cell_type": "code",
   "execution_count": null,
   "id": "1b0aabfc-b015-4041-aca9-48a8403a6255",
   "metadata": {},
   "outputs": [],
   "source": [
    "import torch\n",
    "import torch.nn as nn\n",
    "from torch.nn import functional as F\n",
    "import numpy as np\n",
    "import time\n",
    "import random\n",
    "\n",
    "\n",
    "\n",
    "print(f\"PyTorch version: {torch.__version__}\")  \n",
    "print(f\"CUDA (GPU) available: {torch.cuda.is_available()}\")  \n",
    "\n",
    "# If CUDA is available, print GPU details\n",
    "if torch.cuda.is_available():\n",
    "    print(f\"GPU: {torch.cuda.get_device_name(0)}\")  \n",
    "else:\n",
    "    print(\"⚠️ GPU not detected (CUDA missing or PyTorch installed without GPU support)\")\n",
    "\n",
    "device = 'cuda' if torch.cuda.is_available() else 'cpu'\n",
    "print(device)\n",
    "block_size = 32\n",
    "batch_size = 128\n",
    "max_iters = 200\n",
    "learning_rate = 3e-4\n",
    "eval_iters = 100\n",
    "n_embd = 384\n",
    "n_head = 8\n",
    "n_layer = 8\n",
    "dropout = 0.2\n",
    "#print(torch.__version__)\n",
    "    "
   ]
  },
  {
   "cell_type": "code",
   "execution_count": null,
   "id": "07f81030-ae47-4a8a-94cd-5435e58963e9",
   "metadata": {},
   "outputs": [],
   "source": [
    "%%time\n",
    "start_time = time.time()\n",
    "# Matrix operations here\n",
    "zeros = torch.zeros(1, 1)\n",
    "end_time = time.time()\n",
    "\n",
    "elapsed_time = end_time - start_time\n",
    "print(f\"{elapsed_time:.8f}\")\n"
   ]
  },
  {
   "cell_type": "code",
   "execution_count": null,
   "id": "d7fd7630-cb54-4bad-85d7-88b216d1c4a6",
   "metadata": {},
   "outputs": [],
   "source": [
    "torch_rand1 = torch.rand([10000, 10000]).to(device)\n",
    "torch_rand2 = torch.rand(10000, 10000).to(device)\n",
    "np_rand1 = torch.rand(10000, 10000)\n",
    "np_rand2 = torch.rand(10000, 10000)\n",
    "\n",
    "start_time = time.time()\n",
    "\n",
    "rand = torch_rand1 @ torch_rand2\n",
    "\n",
    "end_time = time.time()\n",
    "\n",
    "elapsed_time = end_time - start_time\n",
    "print(f\"{elapsed_time:.8f}\")\n",
    "\n",
    "start_time = time.time()\n",
    "\n",
    "rand = np_rand1 * np_rand2\n",
    "end_time = time.time()\n",
    "elapsed_time = end_time - start_time\n",
    "print(f\"{elapsed_time:.8f}\")"
   ]
  },
  {
   "cell_type": "code",
   "execution_count": null,
   "id": "f43d63f4-8cea-498c-934a-5eb3ff2f070a",
   "metadata": {},
   "outputs": [],
   "source": [
    "# Define a probability tensor\n",
    "probabilities = torch.tensor([0.1, 0.9])\n",
    "# 10% or 0.1 => 0, 90% or 0.9 => 1. each probability points to the index of the probability in the tensor\n",
    "# Draw 5 samples from the multinomial distribution\n",
    "samples = torch.multinomial(probabilities, num_samples=10, replacement=True)\n",
    "print(samples)"
   ]
  },
  {
   "cell_type": "code",
   "execution_count": null,
   "id": "4d9dbf7c-d99e-465b-8bb4-6411733cbb98",
   "metadata": {},
   "outputs": [],
   "source": [
    "# Concatenate \n",
    "tensor = torch.tensor([1,2,3,4])\n",
    "out = torch.cat((tensor, torch.tensor([5])), dim=0)\n",
    "out"
   ]
  },
  {
   "cell_type": "code",
   "execution_count": null,
   "id": "529218c0-548b-43b4-9d54-f595541ab372",
   "metadata": {},
   "outputs": [],
   "source": [
    "# Triangle lower\n",
    "out = torch.tril(torch.ones(5, 5))\n",
    "out"
   ]
  },
  {
   "cell_type": "code",
   "execution_count": null,
   "id": "d1f6b43a-fa8b-4bc8-93ed-e21ab7a53196",
   "metadata": {},
   "outputs": [],
   "source": [
    "# Triangle upper\n",
    "out = torch.triu(torch.ones(5,5))\n",
    "out"
   ]
  },
  {
   "cell_type": "code",
   "execution_count": null,
   "id": "a9822321-bc5b-4c1e-bfbc-2c6315511f4f",
   "metadata": {},
   "outputs": [],
   "source": [
    "out = torch.zeros(5, 5).masked_fill(torch.tril(torch.ones(5, 5)) == 0, float('-inf'))\n",
    "out"
   ]
  },
  {
   "cell_type": "code",
   "execution_count": null,
   "id": "04716eb8-ba27-4c0f-b6c4-b6f58f92fc7a",
   "metadata": {},
   "outputs": [],
   "source": [
    "torch.exp(out)"
   ]
  },
  {
   "cell_type": "code",
   "execution_count": null,
   "id": "c94a925e-a15c-4edd-8758-f1ec79afa669",
   "metadata": {},
   "outputs": [],
   "source": [
    "input = torch.zeros(2, 3, 4)\n",
    "out = input.transpose(0, 2)\n",
    "out.shape"
   ]
  },
  {
   "cell_type": "code",
   "execution_count": null,
   "id": "04150ce6-c141-4888-81b6-3d76db88c193",
   "metadata": {},
   "outputs": [],
   "source": [
    "tensor1 = torch.tensor([1, 2, 3])\n",
    "tensor2 = torch.tensor([4, 5, 6])\n",
    "tensor3 = torch.tensor([7, 8, 9])\n",
    "\n",
    "# Stack the tensors along a new dimension\n",
    "stacked_tensor = torch.stack([tensor1, tensor2, tensor3])\n",
    "stacked_tensor"
   ]
  },
  {
   "cell_type": "code",
   "execution_count": null,
   "id": "97763393-fcaf-4942-94d4-baf69887186c",
   "metadata": {},
   "outputs": [],
   "source": [
    "sample = torch.tensor([10., 10., 10.])\n",
    "linear = nn.Linear(3, 3, bias=False)\n",
    "print(linear(sample))"
   ]
  },
  {
   "cell_type": "code",
   "execution_count": null,
   "id": "1e225504-8368-44d8-8c16-c6dd3a544f59",
   "metadata": {},
   "outputs": [],
   "source": [
    "# Create a tensor\n",
    "tensor1 = torch.tensor([1.0, 2.0, 3.0])\n",
    "\n",
    "# Apply softmax using torch.nn.functional.sofmax()\n",
    "softmax_output = F.softmax(tensor1, dim=0)\n",
    "\n",
    "print(softmax_output)"
   ]
  },
  {
   "cell_type": "code",
   "execution_count": null,
   "id": "2eaea066-5219-4e08-8419-ec9bf8af26b0",
   "metadata": {},
   "outputs": [],
   "source": [
    "# type int64\n",
    "int_64 = torch.randint(1, (3, 2)).float()\n",
    "# type float32\n",
    "float_32 = torch.rand(2, 3)\n",
    "result = torch.matmul(int_64, float_32)\n",
    "print(result)"
   ]
  },
  {
   "cell_type": "code",
   "execution_count": null,
   "id": "2fff4db6-1d46-4d13-81f4-b2b0de89b2fe",
   "metadata": {},
   "outputs": [],
   "source": [
    "x = torch.tensor([-0.05], dtype=torch.float32)\n",
    "y = F.sigmoid(x)\n",
    "print(y)"
   ]
  }
 ],
 "metadata": {
  "kernelspec": {
   "display_name": "Python 3 (ipykernel)",
   "language": "python",
   "name": "python3"
  },
  "language_info": {
   "codemirror_mode": {
    "name": "ipython",
    "version": 3
   },
   "file_extension": ".py",
   "mimetype": "text/x-python",
   "name": "python",
   "nbconvert_exporter": "python",
   "pygments_lexer": "ipython3",
   "version": "3.10.13"
  }
 },
 "nbformat": 4,
 "nbformat_minor": 5
}
